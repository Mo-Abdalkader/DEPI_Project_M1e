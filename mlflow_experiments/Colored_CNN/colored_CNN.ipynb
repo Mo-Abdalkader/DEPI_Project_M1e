{
 "cells": [
  {
   "cell_type": "markdown",
   "id": "6dd2480c",
   "metadata": {
    "papermill": {
     "duration": 0.006648,
     "end_time": "2024-10-12T16:12:51.616388",
     "exception": false,
     "start_time": "2024-10-12T16:12:51.609740",
     "status": "completed"
    },
    "tags": []
   },
   "source": [
    "# Import Libraries #  "
   ]
  },
  {
   "cell_type": "code",
   "execution_count": 1,
   "id": "37fd2436",
   "metadata": {
    "execution": {
     "iopub.execute_input": "2024-10-12T16:12:51.631334Z",
     "iopub.status.busy": "2024-10-12T16:12:51.630869Z",
     "iopub.status.idle": "2024-10-12T16:13:08.182205Z",
     "shell.execute_reply": "2024-10-12T16:13:08.181180Z"
    },
    "papermill": {
     "duration": 16.562073,
     "end_time": "2024-10-12T16:13:08.184889",
     "exception": false,
     "start_time": "2024-10-12T16:12:51.622816",
     "status": "completed"
    },
    "tags": []
   },
   "outputs": [],
   "source": [
    "import os\n",
    "import cv2\n",
    "from tqdm import tqdm\n",
    "import numpy as np\n",
    "\n",
    "#visualization\n",
    "import matplotlib.pyplot as plt\n",
    "\n",
    "\n",
    "#tensorflow\n",
    "import tensorflow as tf\n",
    "from tensorflow import keras\n",
    "from keras import layers, models, regularizers\n",
    "\n",
    "#sklearn\n",
    "from sklearn.model_selection import train_test_split\n",
    "from sklearn.metrics import confusion_matrix\n",
    "\n"
   ]
  },
  {
   "cell_type": "markdown",
   "id": "986f73dd",
   "metadata": {
    "papermill": {
     "duration": 0.005511,
     "end_time": "2024-10-12T16:13:08.197431",
     "exception": false,
     "start_time": "2024-10-12T16:13:08.191920",
     "status": "completed"
    },
    "tags": []
   },
   "source": [
    "# image preprocessing # "
   ]
  },
  {
   "cell_type": "code",
   "execution_count": 2,
   "id": "e86ff8bc",
   "metadata": {
    "execution": {
     "iopub.execute_input": "2024-10-12T16:13:08.211994Z",
     "iopub.status.busy": "2024-10-12T16:13:08.210366Z",
     "iopub.status.idle": "2024-10-12T16:19:29.188783Z",
     "shell.execute_reply": "2024-10-12T16:19:29.187528Z"
    },
    "papermill": {
     "duration": 380.989075,
     "end_time": "2024-10-12T16:19:29.192188",
     "exception": false,
     "start_time": "2024-10-12T16:13:08.203113",
     "status": "completed"
    },
    "tags": []
   },
   "outputs": [
    {
     "name": "stderr",
     "output_type": "stream",
     "text": [
      "Processing colon_aca: 100%|██████████| 5000/5000 [01:15<00:00, 65.83it/s]\n",
      "Processing colon_n: 100%|██████████| 5000/5000 [01:15<00:00, 66.51it/s]\n",
      "Processing lung_aca: 100%|██████████| 5000/5000 [01:10<00:00, 71.38it/s]\n",
      "Processing lung_scc: 100%|██████████| 5000/5000 [01:10<00:00, 71.33it/s]\n",
      "Processing lung_n: 100%|██████████| 5000/5000 [01:25<00:00, 58.16it/s]\n"
     ]
    },
    {
     "name": "stdout",
     "output_type": "stream",
     "text": [
      "Total images processed: 25000\n",
      "Total labels assigned: 25000\n"
     ]
    }
   ],
   "source": [
    "loc2 = '/kaggle/input/lung-and-colon-cancer-histopathological-images/lung_colon_image_set'\n",
    "\n",
    "categories = {\n",
    "    'colon_aca': 0,  # Colon adenocarcinoma\n",
    "    'colon_n': 1,    # Normal colon\n",
    "    'lung_aca': 2,   # Lung adenocarcinoma\n",
    "    'lung_n': 3,     # Normal lung\n",
    "    'lung_scc': 4    # Lung squamous cell carcinoma\n",
    "}\n",
    "\n",
    "# Prepare lists to store the features (image data) and labels\n",
    "features = []\n",
    "labels = []\n",
    "\n",
    "# Loop through the main folders (colon_image_sets and lung_image_sets)\n",
    "for folder in ['colon_image_sets', 'lung_image_sets']:\n",
    "    sub_dir = os.path.join(loc2, folder)\n",
    "    \n",
    "    # Loop through each class subfolder inside the main folder\n",
    "    for class_name in os.listdir(sub_dir):\n",
    "        class_dir = os.path.join(sub_dir, class_name)\n",
    "        \n",
    "        # Loop through each image in the class folder\n",
    "        for img in tqdm(os.listdir(class_dir), desc=f'Processing {class_name}'):\n",
    "            img_path = os.path.join(class_dir, img)\n",
    "            \n",
    "            # Read the image and resize it to 70x70 pixels\n",
    "            img_array = cv2.imread(img_path)\n",
    "            img_array = cv2.resize(img_array, (70, 70))\n",
    "            \n",
    "            # Append the preprocessed image and its corresponding label\n",
    "            features.append(img_array)  # Add the image to the features list\n",
    "            labels.append(categories[class_name])  # Add the label based on class\n",
    "\n",
    "# Convert the features and labels to numpy arrays\n",
    "features = np.array(features)\n",
    "labels = np.array(labels)\n",
    "\n",
    "# Normalize the pixel values of the images to be between 0 and 1\n",
    "features = features.astype('float32') / 255.0\n",
    "\n",
    "# Print summary of the data\n",
    "print(f'Total images processed: {len(features)}')\n",
    "print(f'Total labels assigned: {len(labels)}')"
   ]
  },
  {
   "cell_type": "code",
   "execution_count": 3,
   "id": "f5a272ea",
   "metadata": {
    "execution": {
     "iopub.execute_input": "2024-10-12T16:19:29.651808Z",
     "iopub.status.busy": "2024-10-12T16:19:29.651372Z",
     "iopub.status.idle": "2024-10-12T16:19:30.327973Z",
     "shell.execute_reply": "2024-10-12T16:19:30.326567Z"
    },
    "papermill": {
     "duration": 0.90919,
     "end_time": "2024-10-12T16:19:30.330636",
     "exception": false,
     "start_time": "2024-10-12T16:19:29.421446",
     "status": "completed"
    },
    "tags": []
   },
   "outputs": [
    {
     "name": "stdout",
     "output_type": "stream",
     "text": [
      "(25000, 70, 70, 3)\n"
     ]
    }
   ],
   "source": [
    "X = np.array(features)\n",
    "print(X.shape)"
   ]
  },
  {
   "cell_type": "code",
   "execution_count": 4,
   "id": "47da108f",
   "metadata": {
    "execution": {
     "iopub.execute_input": "2024-10-12T16:19:30.792889Z",
     "iopub.status.busy": "2024-10-12T16:19:30.792482Z",
     "iopub.status.idle": "2024-10-12T16:19:30.799741Z",
     "shell.execute_reply": "2024-10-12T16:19:30.798344Z"
    },
    "papermill": {
     "duration": 0.243355,
     "end_time": "2024-10-12T16:19:30.802347",
     "exception": false,
     "start_time": "2024-10-12T16:19:30.558992",
     "status": "completed"
    },
    "tags": []
   },
   "outputs": [
    {
     "name": "stdout",
     "output_type": "stream",
     "text": [
      "(25000,)\n"
     ]
    }
   ],
   "source": [
    "Y = np.array(labels)\n",
    "print(Y.shape)"
   ]
  },
  {
   "cell_type": "markdown",
   "id": "94ad32db",
   "metadata": {
    "papermill": {
     "duration": 0.290592,
     "end_time": "2024-10-12T16:19:31.319859",
     "exception": false,
     "start_time": "2024-10-12T16:19:31.029267",
     "status": "completed"
    },
    "tags": []
   },
   "source": [
    "# Splitting The Dataset # "
   ]
  },
  {
   "cell_type": "code",
   "execution_count": 5,
   "id": "632e2ccf",
   "metadata": {
    "execution": {
     "iopub.execute_input": "2024-10-12T16:19:31.779165Z",
     "iopub.status.busy": "2024-10-12T16:19:31.778776Z",
     "iopub.status.idle": "2024-10-12T16:19:32.389935Z",
     "shell.execute_reply": "2024-10-12T16:19:32.388642Z"
    },
    "papermill": {
     "duration": 0.839842,
     "end_time": "2024-10-12T16:19:32.392633",
     "exception": false,
     "start_time": "2024-10-12T16:19:31.552791",
     "status": "completed"
    },
    "tags": []
   },
   "outputs": [],
   "source": [
    "xtrain, xtest, ytrain, ytest = train_test_split(X, Y, test_size=0.2, random_state=42)\n"
   ]
  },
  {
   "cell_type": "code",
   "execution_count": 6,
   "id": "5e2aed10",
   "metadata": {
    "execution": {
     "iopub.execute_input": "2024-10-12T16:19:32.866241Z",
     "iopub.status.busy": "2024-10-12T16:19:32.865762Z",
     "iopub.status.idle": "2024-10-12T16:19:33.630206Z",
     "shell.execute_reply": "2024-10-12T16:19:33.628945Z"
    },
    "papermill": {
     "duration": 1.014798,
     "end_time": "2024-10-12T16:19:33.633098",
     "exception": false,
     "start_time": "2024-10-12T16:19:32.618300",
     "status": "completed"
    },
    "tags": []
   },
   "outputs": [],
   "source": [
    "xtrain = xtrain/xtrain.max()\n",
    "xtest = xtest/xtest.max()"
   ]
  },
  {
   "cell_type": "code",
   "execution_count": 7,
   "id": "a312ed25",
   "metadata": {
    "execution": {
     "iopub.execute_input": "2024-10-12T16:19:34.088948Z",
     "iopub.status.busy": "2024-10-12T16:19:34.088521Z",
     "iopub.status.idle": "2024-10-12T16:19:34.351521Z",
     "shell.execute_reply": "2024-10-12T16:19:34.350274Z"
    },
    "papermill": {
     "duration": 0.494594,
     "end_time": "2024-10-12T16:19:34.354410",
     "exception": false,
     "start_time": "2024-10-12T16:19:33.859816",
     "status": "completed"
    },
    "tags": []
   },
   "outputs": [
    {
     "data": {
      "image/png": "[encoded data removed]",
      "text/plain": [
       "<Figure size 640x480 with 1 Axes>"
      ]
     },
     "metadata": {},
     "output_type": "display_data"
    }
   ],
   "source": [
    "plt.imshow(xtrain[120])\n",
    "plt.show()"
   ]
  },
  {
   "cell_type": "markdown",
   "id": "1b217d70",
   "metadata": {
    "papermill": {
     "duration": 0.282617,
     "end_time": "2024-10-12T16:19:34.862088",
     "exception": false,
     "start_time": "2024-10-12T16:19:34.579471",
     "status": "completed"
    },
    "tags": []
   },
   "source": [
    "# Building the model # "
   ]
  },
  {
   "cell_type": "code",
   "execution_count": 8,
   "id": "8c8964f7",
   "metadata": {
    "execution": {
     "iopub.execute_input": "2024-10-12T16:19:35.311853Z",
     "iopub.status.busy": "2024-10-12T16:19:35.311453Z",
     "iopub.status.idle": "2024-10-12T16:19:35.607604Z",
     "shell.execute_reply": "2024-10-12T16:19:35.606466Z"
    },
    "papermill": {
     "duration": 0.524306,
     "end_time": "2024-10-12T16:19:35.610418",
     "exception": false,
     "start_time": "2024-10-12T16:19:35.086112",
     "status": "completed"
    },
    "tags": []
   },
   "outputs": [
    {
     "name": "stderr",
     "output_type": "stream",
     "text": [
      "/opt/conda/lib/python3.10/site-packages/keras/src/layers/convolutional/base_conv.py:107: UserWarning: Do not pass an `input_shape`/`input_dim` argument to a layer. When using Sequential models, prefer using an `Input(shape)` object as the first layer in the model instead.\n",
      "  super().__init__(activity_regularizer=activity_regularizer, **kwargs)\n"
     ]
    }
   ],
   "source": [
    "model = models.Sequential()\n",
    "\n",
    "model.add(layers.Conv2D(32 ,(3,3) , padding = 'same' , input_shape = (70,70,3)))\n",
    "model.add(layers.Activation('relu'))\n",
    "model.add(layers.MaxPooling2D(pool_size=(2,2)))\n",
    "\n",
    "model.add(layers.Conv2D(64 ,(3,3) , padding = 'same'))\n",
    "model.add(layers.Activation('relu'))\n",
    "model.add(layers.MaxPooling2D(pool_size=(2,2)))\n",
    "\n",
    "model.add(layers.Conv2D(128 ,(3,3) , padding = 'same'))\n",
    "model.add(layers.Activation('relu'))\n",
    "model.add(layers.MaxPooling2D(pool_size=(2,2)))\n",
    "\n",
    "model.add(layers.Conv2D(256 ,(3,3) , padding = 'same'))\n",
    "model.add(layers.Activation('relu'))\n",
    "model.add(layers.MaxPooling2D(pool_size=(2,2)))\n",
    "\n",
    "model.add(layers.Conv2D(512 ,(3,3) , padding = 'same'))\n",
    "model.add(layers.Activation('relu'))\n",
    "model.add(layers.MaxPooling2D(pool_size=(2,2)))\n",
    "\n",
    "model.add(layers.Flatten())\n",
    "model.add(layers.Dense(256 , activation='relu' ))\n",
    "model.add(layers.Dense(5, activation='softmax') )"
   ]
  },
  {
   "cell_type": "code",
   "execution_count": 9,
   "id": "b530630d",
   "metadata": {
    "execution": {
     "iopub.execute_input": "2024-10-12T16:19:36.115482Z",
     "iopub.status.busy": "2024-10-12T16:19:36.115036Z",
     "iopub.status.idle": "2024-10-12T16:19:36.388489Z",
     "shell.execute_reply": "2024-10-12T16:19:36.386813Z"
    },
    "papermill": {
     "duration": 0.552519,
     "end_time": "2024-10-12T16:19:36.392754",
     "exception": false,
     "start_time": "2024-10-12T16:19:35.840235",
     "status": "completed"
    },
    "tags": []
   },
   "outputs": [
    {
     "data": {
      "text/html": [
       "<pre style=\"white-space:pre;overflow-x:auto;line-height:normal;font-family:Menlo,'DejaVu Sans Mono',consolas,'Courier New',monospace\"><span style=\"font-weight: bold\">Model: \"sequential\"</span>\n",
       "</pre>\n"
      ],
      "text/plain": [
       "\u001b[1mModel: \"sequential\"\u001b[0m\n"
      ]
     },
     "metadata": {},
     "output_type": "display_data"
    },
    {
     "data": {
      "text/html": [
       "<pre style=\"white-space:pre;overflow-x:auto;line-height:normal;font-family:Menlo,'DejaVu Sans Mono',consolas,'Courier New',monospace\">┏━━━━━━━━━━━━━━━━━━━━━━━━━━━━━━━━━┳━━━━━━━━━━━━━━━━━━━━━━━━┳━━━━━━━━━━━━━━━┓\n",
       "┃<span style=\"font-weight: bold\"> Layer (type)                    </span>┃<span style=\"font-weight: bold\"> Output Shape           </span>┃<span style=\"font-weight: bold\">       Param # </span>┃\n",
       "┡━━━━━━━━━━━━━━━━━━━━━━━━━━━━━━━━━╇━━━━━━━━━━━━━━━━━━━━━━━━╇━━━━━━━━━━━━━━━┩\n",
       "│ conv2d (<span style=\"color: #0087ff; text-decoration-color: #0087ff\">Conv2D</span>)                 │ (<span style=\"color: #00d7ff; text-decoration-color: #00d7ff\">None</span>, <span style=\"color: #00af00; text-decoration-color: #00af00\">70</span>, <span style=\"color: #00af00; text-decoration-color: #00af00\">70</span>, <span style=\"color: #00af00; text-decoration-color: #00af00\">32</span>)     │           <span style=\"color: #00af00; text-decoration-color: #00af00\">896</span> │\n",
       "├─────────────────────────────────┼────────────────────────┼───────────────┤\n",
       "│ activation (<span style=\"color: #0087ff; text-decoration-color: #0087ff\">Activation</span>)         │ (<span style=\"color: #00d7ff; text-decoration-color: #00d7ff\">None</span>, <span style=\"color: #00af00; text-decoration-color: #00af00\">70</span>, <span style=\"color: #00af00; text-decoration-color: #00af00\">70</span>, <span style=\"color: #00af00; text-decoration-color: #00af00\">32</span>)     │             <span style=\"color: #00af00; text-decoration-color: #00af00\">0</span> │\n",
       "├─────────────────────────────────┼────────────────────────┼───────────────┤\n",
       "│ max_pooling2d (<span style=\"color: #0087ff; text-decoration-color: #0087ff\">MaxPooling2D</span>)    │ (<span style=\"color: #00d7ff; text-decoration-color: #00d7ff\">None</span>, <span style=\"color: #00af00; text-decoration-color: #00af00\">35</span>, <span style=\"color: #00af00; text-decoration-color: #00af00\">35</span>, <span style=\"color: #00af00; text-decoration-color: #00af00\">32</span>)     │             <span style=\"color: #00af00; text-decoration-color: #00af00\">0</span> │\n",
       "├─────────────────────────────────┼────────────────────────┼───────────────┤\n",
       "│ conv2d_1 (<span style=\"color: #0087ff; text-decoration-color: #0087ff\">Conv2D</span>)               │ (<span style=\"color: #00d7ff; text-decoration-color: #00d7ff\">None</span>, <span style=\"color: #00af00; text-decoration-color: #00af00\">35</span>, <span style=\"color: #00af00; text-decoration-color: #00af00\">35</span>, <span style=\"color: #00af00; text-decoration-color: #00af00\">64</span>)     │        <span style=\"color: #00af00; text-decoration-color: #00af00\">18,496</span> │\n",
       "├─────────────────────────────────┼────────────────────────┼───────────────┤\n",
       "│ activation_1 (<span style=\"color: #0087ff; text-decoration-color: #0087ff\">Activation</span>)       │ (<span style=\"color: #00d7ff; text-decoration-color: #00d7ff\">None</span>, <span style=\"color: #00af00; text-decoration-color: #00af00\">35</span>, <span style=\"color: #00af00; text-decoration-color: #00af00\">35</span>, <span style=\"color: #00af00; text-decoration-color: #00af00\">64</span>)     │             <span style=\"color: #00af00; text-decoration-color: #00af00\">0</span> │\n",
       "├─────────────────────────────────┼────────────────────────┼───────────────┤\n",
       "│ max_pooling2d_1 (<span style=\"color: #0087ff; text-decoration-color: #0087ff\">MaxPooling2D</span>)  │ (<span style=\"color: #00d7ff; text-decoration-color: #00d7ff\">None</span>, <span style=\"color: #00af00; text-decoration-color: #00af00\">17</span>, <span style=\"color: #00af00; text-decoration-color: #00af00\">17</span>, <span style=\"color: #00af00; text-decoration-color: #00af00\">64</span>)     │             <span style=\"color: #00af00; text-decoration-color: #00af00\">0</span> │\n",
       "├─────────────────────────────────┼────────────────────────┼───────────────┤\n",
       "│ conv2d_2 (<span style=\"color: #0087ff; text-decoration-color: #0087ff\">Conv2D</span>)               │ (<span style=\"color: #00d7ff; text-decoration-color: #00d7ff\">None</span>, <span style=\"color: #00af00; text-decoration-color: #00af00\">17</span>, <span style=\"color: #00af00; text-decoration-color: #00af00\">17</span>, <span style=\"color: #00af00; text-decoration-color: #00af00\">128</span>)    │        <span style=\"color: #00af00; text-decoration-color: #00af00\">73,856</span> │\n",
       "├─────────────────────────────────┼────────────────────────┼───────────────┤\n",
       "│ activation_2 (<span style=\"color: #0087ff; text-decoration-color: #0087ff\">Activation</span>)       │ (<span style=\"color: #00d7ff; text-decoration-color: #00d7ff\">None</span>, <span style=\"color: #00af00; text-decoration-color: #00af00\">17</span>, <span style=\"color: #00af00; text-decoration-color: #00af00\">17</span>, <span style=\"color: #00af00; text-decoration-color: #00af00\">128</span>)    │             <span style=\"color: #00af00; text-decoration-color: #00af00\">0</span> │\n",
       "├─────────────────────────────────┼────────────────────────┼───────────────┤\n",
       "│ max_pooling2d_2 (<span style=\"color: #0087ff; text-decoration-color: #0087ff\">MaxPooling2D</span>)  │ (<span style=\"color: #00d7ff; text-decoration-color: #00d7ff\">None</span>, <span style=\"color: #00af00; text-decoration-color: #00af00\">8</span>, <span style=\"color: #00af00; text-decoration-color: #00af00\">8</span>, <span style=\"color: #00af00; text-decoration-color: #00af00\">128</span>)      │             <span style=\"color: #00af00; text-decoration-color: #00af00\">0</span> │\n",
       "├─────────────────────────────────┼────────────────────────┼───────────────┤\n",
       "│ conv2d_3 (<span style=\"color: #0087ff; text-decoration-color: #0087ff\">Conv2D</span>)               │ (<span style=\"color: #00d7ff; text-decoration-color: #00d7ff\">None</span>, <span style=\"color: #00af00; text-decoration-color: #00af00\">8</span>, <span style=\"color: #00af00; text-decoration-color: #00af00\">8</span>, <span style=\"color: #00af00; text-decoration-color: #00af00\">256</span>)      │       <span style=\"color: #00af00; text-decoration-color: #00af00\">295,168</span> │\n",
       "├─────────────────────────────────┼────────────────────────┼───────────────┤\n",
       "│ activation_3 (<span style=\"color: #0087ff; text-decoration-color: #0087ff\">Activation</span>)       │ (<span style=\"color: #00d7ff; text-decoration-color: #00d7ff\">None</span>, <span style=\"color: #00af00; text-decoration-color: #00af00\">8</span>, <span style=\"color: #00af00; text-decoration-color: #00af00\">8</span>, <span style=\"color: #00af00; text-decoration-color: #00af00\">256</span>)      │             <span style=\"color: #00af00; text-decoration-color: #00af00\">0</span> │\n",
       "├─────────────────────────────────┼────────────────────────┼───────────────┤\n",
       "│ max_pooling2d_3 (<span style=\"color: #0087ff; text-decoration-color: #0087ff\">MaxPooling2D</span>)  │ (<span style=\"color: #00d7ff; text-decoration-color: #00d7ff\">None</span>, <span style=\"color: #00af00; text-decoration-color: #00af00\">4</span>, <span style=\"color: #00af00; text-decoration-color: #00af00\">4</span>, <span style=\"color: #00af00; text-decoration-color: #00af00\">256</span>)      │             <span style=\"color: #00af00; text-decoration-color: #00af00\">0</span> │\n",
       "├─────────────────────────────────┼────────────────────────┼───────────────┤\n",
       "│ conv2d_4 (<span style=\"color: #0087ff; text-decoration-color: #0087ff\">Conv2D</span>)               │ (<span style=\"color: #00d7ff; text-decoration-color: #00d7ff\">None</span>, <span style=\"color: #00af00; text-decoration-color: #00af00\">4</span>, <span style=\"color: #00af00; text-decoration-color: #00af00\">4</span>, <span style=\"color: #00af00; text-decoration-color: #00af00\">512</span>)      │     <span style=\"color: #00af00; text-decoration-color: #00af00\">1,180,160</span> │\n",
       "├─────────────────────────────────┼────────────────────────┼───────────────┤\n",
       "│ activation_4 (<span style=\"color: #0087ff; text-decoration-color: #0087ff\">Activation</span>)       │ (<span style=\"color: #00d7ff; text-decoration-color: #00d7ff\">None</span>, <span style=\"color: #00af00; text-decoration-color: #00af00\">4</span>, <span style=\"color: #00af00; text-decoration-color: #00af00\">4</span>, <span style=\"color: #00af00; text-decoration-color: #00af00\">512</span>)      │             <span style=\"color: #00af00; text-decoration-color: #00af00\">0</span> │\n",
       "├─────────────────────────────────┼────────────────────────┼───────────────┤\n",
       "│ max_pooling2d_4 (<span style=\"color: #0087ff; text-decoration-color: #0087ff\">MaxPooling2D</span>)  │ (<span style=\"color: #00d7ff; text-decoration-color: #00d7ff\">None</span>, <span style=\"color: #00af00; text-decoration-color: #00af00\">2</span>, <span style=\"color: #00af00; text-decoration-color: #00af00\">2</span>, <span style=\"color: #00af00; text-decoration-color: #00af00\">512</span>)      │             <span style=\"color: #00af00; text-decoration-color: #00af00\">0</span> │\n",
       "├─────────────────────────────────┼────────────────────────┼───────────────┤\n",
       "│ flatten (<span style=\"color: #0087ff; text-decoration-color: #0087ff\">Flatten</span>)               │ (<span style=\"color: #00d7ff; text-decoration-color: #00d7ff\">None</span>, <span style=\"color: #00af00; text-decoration-color: #00af00\">2048</span>)           │             <span style=\"color: #00af00; text-decoration-color: #00af00\">0</span> │\n",
       "├─────────────────────────────────┼────────────────────────┼───────────────┤\n",
       "│ dense (<span style=\"color: #0087ff; text-decoration-color: #0087ff\">Dense</span>)                   │ (<span style=\"color: #00d7ff; text-decoration-color: #00d7ff\">None</span>, <span style=\"color: #00af00; text-decoration-color: #00af00\">256</span>)            │       <span style=\"color: #00af00; text-decoration-color: #00af00\">524,544</span> │\n",
       "├─────────────────────────────────┼────────────────────────┼───────────────┤\n",
       "│ dense_1 (<span style=\"color: #0087ff; text-decoration-color: #0087ff\">Dense</span>)                 │ (<span style=\"color: #00d7ff; text-decoration-color: #00d7ff\">None</span>, <span style=\"color: #00af00; text-decoration-color: #00af00\">5</span>)              │         <span style=\"color: #00af00; text-decoration-color: #00af00\">1,285</span> │\n",
       "└─────────────────────────────────┴────────────────────────┴───────────────┘\n",
       "</pre>\n"
      ],
      "text/plain": [
       "┏━━━━━━━━━━━━━━━━━━━━━━━━━━━━━━━━━┳━━━━━━━━━━━━━━━━━━━━━━━━┳━━━━━━━━━━━━━━━┓\n",
       "┃\u001b[1m \u001b[0m\u001b[1mLayer (type)                   \u001b[0m\u001b[1m \u001b[0m┃\u001b[1m \u001b[0m\u001b[1mOutput Shape          \u001b[0m\u001b[1m \u001b[0m┃\u001b[1m \u001b[0m\u001b[1m      Param #\u001b[0m\u001b[1m \u001b[0m┃\n",
       "┡━━━━━━━━━━━━━━━━━━━━━━━━━━━━━━━━━╇━━━━━━━━━━━━━━━━━━━━━━━━╇━━━━━━━━━━━━━━━┩\n",
       "│ conv2d (\u001b[38;5;33mConv2D\u001b[0m)                 │ (\u001b[38;5;45mNone\u001b[0m, \u001b[38;5;34m70\u001b[0m, \u001b[38;5;34m70\u001b[0m, \u001b[38;5;34m32\u001b[0m)     │           \u001b[38;5;34m896\u001b[0m │\n",
       "├─────────────────────────────────┼────────────────────────┼───────────────┤\n",
       "│ activation (\u001b[38;5;33mActivation\u001b[0m)         │ (\u001b[38;5;45mNone\u001b[0m, \u001b[38;5;34m70\u001b[0m, \u001b[38;5;34m70\u001b[0m, \u001b[38;5;34m32\u001b[0m)     │             \u001b[38;5;34m0\u001b[0m │\n",
       "├─────────────────────────────────┼────────────────────────┼───────────────┤\n",
       "│ max_pooling2d (\u001b[38;5;33mMaxPooling2D\u001b[0m)    │ (\u001b[38;5;45mNone\u001b[0m, \u001b[38;5;34m35\u001b[0m, \u001b[38;5;34m35\u001b[0m, \u001b[38;5;34m32\u001b[0m)     │             \u001b[38;5;34m0\u001b[0m │\n",
       "├─────────────────────────────────┼────────────────────────┼───────────────┤\n",
       "│ conv2d_1 (\u001b[38;5;33mConv2D\u001b[0m)               │ (\u001b[38;5;45mNone\u001b[0m, \u001b[38;5;34m35\u001b[0m, \u001b[38;5;34m35\u001b[0m, \u001b[38;5;34m64\u001b[0m)     │        \u001b[38;5;34m18,496\u001b[0m │\n",
       "├─────────────────────────────────┼────────────────────────┼───────────────┤\n",
       "│ activation_1 (\u001b[38;5;33mActivation\u001b[0m)       │ (\u001b[38;5;45mNone\u001b[0m, \u001b[38;5;34m35\u001b[0m, \u001b[38;5;34m35\u001b[0m, \u001b[38;5;34m64\u001b[0m)     │             \u001b[38;5;34m0\u001b[0m │\n",
       "├─────────────────────────────────┼────────────────────────┼───────────────┤\n",
       "│ max_pooling2d_1 (\u001b[38;5;33mMaxPooling2D\u001b[0m)  │ (\u001b[38;5;45mNone\u001b[0m, \u001b[38;5;34m17\u001b[0m, \u001b[38;5;34m17\u001b[0m, \u001b[38;5;34m64\u001b[0m)     │             \u001b[38;5;34m0\u001b[0m │\n",
       "├─────────────────────────────────┼────────────────────────┼───────────────┤\n",
       "│ conv2d_2 (\u001b[38;5;33mConv2D\u001b[0m)               │ (\u001b[38;5;45mNone\u001b[0m, \u001b[38;5;34m17\u001b[0m, \u001b[38;5;34m17\u001b[0m, \u001b[38;5;34m128\u001b[0m)    │        \u001b[38;5;34m73,856\u001b[0m │\n",
       "├─────────────────────────────────┼────────────────────────┼───────────────┤\n",
       "│ activation_2 (\u001b[38;5;33mActivation\u001b[0m)       │ (\u001b[38;5;45mNone\u001b[0m, \u001b[38;5;34m17\u001b[0m, \u001b[38;5;34m17\u001b[0m, \u001b[38;5;34m128\u001b[0m)    │             \u001b[38;5;34m0\u001b[0m │\n",
       "├─────────────────────────────────┼────────────────────────┼───────────────┤\n",
       "│ max_pooling2d_2 (\u001b[38;5;33mMaxPooling2D\u001b[0m)  │ (\u001b[38;5;45mNone\u001b[0m, \u001b[38;5;34m8\u001b[0m, \u001b[38;5;34m8\u001b[0m, \u001b[38;5;34m128\u001b[0m)      │             \u001b[38;5;34m0\u001b[0m │\n",
       "├─────────────────────────────────┼────────────────────────┼───────────────┤\n",
       "│ conv2d_3 (\u001b[38;5;33mConv2D\u001b[0m)               │ (\u001b[38;5;45mNone\u001b[0m, \u001b[38;5;34m8\u001b[0m, \u001b[38;5;34m8\u001b[0m, \u001b[38;5;34m256\u001b[0m)      │       \u001b[38;5;34m295,168\u001b[0m │\n",
       "├─────────────────────────────────┼────────────────────────┼───────────────┤\n",
       "│ activation_3 (\u001b[38;5;33mActivation\u001b[0m)       │ (\u001b[38;5;45mNone\u001b[0m, \u001b[38;5;34m8\u001b[0m, \u001b[38;5;34m8\u001b[0m, \u001b[38;5;34m256\u001b[0m)      │             \u001b[38;5;34m0\u001b[0m │\n",
       "├─────────────────────────────────┼────────────────────────┼───────────────┤\n",
       "│ max_pooling2d_3 (\u001b[38;5;33mMaxPooling2D\u001b[0m)  │ (\u001b[38;5;45mNone\u001b[0m, \u001b[38;5;34m4\u001b[0m, \u001b[38;5;34m4\u001b[0m, \u001b[38;5;34m256\u001b[0m)      │             \u001b[38;5;34m0\u001b[0m │\n",
       "├─────────────────────────────────┼────────────────────────┼───────────────┤\n",
       "│ conv2d_4 (\u001b[38;5;33mConv2D\u001b[0m)               │ (\u001b[38;5;45mNone\u001b[0m, \u001b[38;5;34m4\u001b[0m, \u001b[38;5;34m4\u001b[0m, \u001b[38;5;34m512\u001b[0m)      │     \u001b[38;5;34m1,180,160\u001b[0m │\n",
       "├─────────────────────────────────┼────────────────────────┼───────────────┤\n",
       "│ activation_4 (\u001b[38;5;33mActivation\u001b[0m)       │ (\u001b[38;5;45mNone\u001b[0m, \u001b[38;5;34m4\u001b[0m, \u001b[38;5;34m4\u001b[0m, \u001b[38;5;34m512\u001b[0m)      │             \u001b[38;5;34m0\u001b[0m │\n",
       "├─────────────────────────────────┼────────────────────────┼───────────────┤\n",
       "│ max_pooling2d_4 (\u001b[38;5;33mMaxPooling2D\u001b[0m)  │ (\u001b[38;5;45mNone\u001b[0m, \u001b[38;5;34m2\u001b[0m, \u001b[38;5;34m2\u001b[0m, \u001b[38;5;34m512\u001b[0m)      │             \u001b[38;5;34m0\u001b[0m │\n",
       "├─────────────────────────────────┼────────────────────────┼───────────────┤\n",
       "│ flatten (\u001b[38;5;33mFlatten\u001b[0m)               │ (\u001b[38;5;45mNone\u001b[0m, \u001b[38;5;34m2048\u001b[0m)           │             \u001b[38;5;34m0\u001b[0m │\n",
       "├─────────────────────────────────┼────────────────────────┼───────────────┤\n",
       "│ dense (\u001b[38;5;33mDense\u001b[0m)                   │ (\u001b[38;5;45mNone\u001b[0m, \u001b[38;5;34m256\u001b[0m)            │       \u001b[38;5;34m524,544\u001b[0m │\n",
       "├─────────────────────────────────┼────────────────────────┼───────────────┤\n",
       "│ dense_1 (\u001b[38;5;33mDense\u001b[0m)                 │ (\u001b[38;5;45mNone\u001b[0m, \u001b[38;5;34m5\u001b[0m)              │         \u001b[38;5;34m1,285\u001b[0m │\n",
       "└─────────────────────────────────┴────────────────────────┴───────────────┘\n"
      ]
     },
     "metadata": {},
     "output_type": "display_data"
    },
    {
     "data": {
      "text/html": [
       "<pre style=\"white-space:pre;overflow-x:auto;line-height:normal;font-family:Menlo,'DejaVu Sans Mono',consolas,'Courier New',monospace\"><span style=\"font-weight: bold\"> Total params: </span><span style=\"color: #00af00; text-decoration-color: #00af00\">2,094,405</span> (7.99 MB)\n",
       "</pre>\n"
      ],
      "text/plain": [
       "\u001b[1m Total params: \u001b[0m\u001b[38;5;34m2,094,405\u001b[0m (7.99 MB)\n"
      ]
     },
     "metadata": {},
     "output_type": "display_data"
    },
    {
     "data": {
      "text/html": [
       "<pre style=\"white-space:pre;overflow-x:auto;line-height:normal;font-family:Menlo,'DejaVu Sans Mono',consolas,'Courier New',monospace\"><span style=\"font-weight: bold\"> Trainable params: </span><span style=\"color: #00af00; text-decoration-color: #00af00\">2,094,405</span> (7.99 MB)\n",
       "</pre>\n"
      ],
      "text/plain": [
       "\u001b[1m Trainable params: \u001b[0m\u001b[38;5;34m2,094,405\u001b[0m (7.99 MB)\n"
      ]
     },
     "metadata": {},
     "output_type": "display_data"
    },
    {
     "data": {
      "text/html": [
       "<pre style=\"white-space:pre;overflow-x:auto;line-height:normal;font-family:Menlo,'DejaVu Sans Mono',consolas,'Courier New',monospace\"><span style=\"font-weight: bold\"> Non-trainable params: </span><span style=\"color: #00af00; text-decoration-color: #00af00\">0</span> (0.00 B)\n",
       "</pre>\n"
      ],
      "text/plain": [
       "\u001b[1m Non-trainable params: \u001b[0m\u001b[38;5;34m0\u001b[0m (0.00 B)\n"
      ]
     },
     "metadata": {},
     "output_type": "display_data"
    }
   ],
   "source": [
    "model.summary()"
   ]
  },
  {
   "cell_type": "markdown",
   "id": "1adf9512",
   "metadata": {
    "papermill": {
     "duration": 0.226201,
     "end_time": "2024-10-12T16:19:36.863337",
     "exception": false,
     "start_time": "2024-10-12T16:19:36.637136",
     "status": "completed"
    },
    "tags": []
   },
   "source": [
    "# compiling the model # "
   ]
  },
  {
   "cell_type": "code",
   "execution_count": 10,
   "id": "f2ff237e",
   "metadata": {
    "execution": {
     "iopub.execute_input": "2024-10-12T16:19:37.344856Z",
     "iopub.status.busy": "2024-10-12T16:19:37.343621Z",
     "iopub.status.idle": "2024-10-12T16:19:37.372521Z",
     "shell.execute_reply": "2024-10-12T16:19:37.370650Z"
    },
    "papermill": {
     "duration": 0.287992,
     "end_time": "2024-10-12T16:19:37.375436",
     "exception": false,
     "start_time": "2024-10-12T16:19:37.087444",
     "status": "completed"
    },
    "tags": []
   },
   "outputs": [],
   "source": [
    "\n",
    "model.compile(optimizer='adam', loss='sparse_categorical_crossentropy', metrics=['accuracy'])\n"
   ]
  },
  {
   "cell_type": "markdown",
   "id": "75114104",
   "metadata": {
    "papermill": {
     "duration": 0.227003,
     "end_time": "2024-10-12T16:19:37.889559",
     "exception": false,
     "start_time": "2024-10-12T16:19:37.662556",
     "status": "completed"
    },
    "tags": []
   },
   "source": [
    "# Trainng the model # "
   ]
  },
  {
   "cell_type": "code",
   "execution_count": 11,
   "id": "ef33d49e",
   "metadata": {
    "execution": {
     "iopub.execute_input": "2024-10-12T16:19:38.341821Z",
     "iopub.status.busy": "2024-10-12T16:19:38.341423Z",
     "iopub.status.idle": "2024-10-12T17:18:29.447344Z",
     "shell.execute_reply": "2024-10-12T17:18:29.445025Z"
    },
    "papermill": {
     "duration": 3531.336129,
     "end_time": "2024-10-12T17:18:29.450725",
     "exception": false,
     "start_time": "2024-10-12T16:19:38.114596",
     "status": "completed"
    },
    "tags": []
   },
   "outputs": [
    {
     "name": "stdout",
     "output_type": "stream",
     "text": [
      "Epoch 1/20\n",
      "\u001b[1m625/625\u001b[0m \u001b[32m━━━━━━━━━━━━━━━━━━━━\u001b[0m\u001b[37m\u001b[0m \u001b[1m184s\u001b[0m 291ms/step - accuracy: 0.6031 - loss: 0.8389 - val_accuracy: 0.8652 - val_loss: 0.3160\n",
      "Epoch 2/20\n",
      "\u001b[1m625/625\u001b[0m \u001b[32m━━━━━━━━━━━━━━━━━━━━\u001b[0m\u001b[37m\u001b[0m \u001b[1m165s\u001b[0m 264ms/step - accuracy: 0.8778 - loss: 0.2992 - val_accuracy: 0.9300 - val_loss: 0.1887\n",
      "Epoch 3/20\n",
      "\u001b[1m625/625\u001b[0m \u001b[32m━━━━━━━━━━━━━━━━━━━━\u001b[0m\u001b[37m\u001b[0m \u001b[1m162s\u001b[0m 260ms/step - accuracy: 0.9267 - loss: 0.1829 - val_accuracy: 0.9498 - val_loss: 0.1279\n",
      "Epoch 4/20\n",
      "\u001b[1m625/625\u001b[0m \u001b[32m━━━━━━━━━━━━━━━━━━━━\u001b[0m\u001b[37m\u001b[0m \u001b[1m163s\u001b[0m 261ms/step - accuracy: 0.9530 - loss: 0.1190 - val_accuracy: 0.9448 - val_loss: 0.1518\n",
      "Epoch 5/20\n",
      "\u001b[1m625/625\u001b[0m \u001b[32m━━━━━━━━━━━━━━━━━━━━\u001b[0m\u001b[37m\u001b[0m \u001b[1m165s\u001b[0m 264ms/step - accuracy: 0.9570 - loss: 0.1119 - val_accuracy: 0.9588 - val_loss: 0.1055\n",
      "Epoch 6/20\n",
      "\u001b[1m625/625\u001b[0m \u001b[32m━━━━━━━━━━━━━━━━━━━━\u001b[0m\u001b[37m\u001b[0m \u001b[1m203s\u001b[0m 266ms/step - accuracy: 0.9650 - loss: 0.0914 - val_accuracy: 0.9752 - val_loss: 0.0646\n",
      "Epoch 7/20\n",
      "\u001b[1m625/625\u001b[0m \u001b[32m━━━━━━━━━━━━━━━━━━━━\u001b[0m\u001b[37m\u001b[0m \u001b[1m163s\u001b[0m 261ms/step - accuracy: 0.9741 - loss: 0.0657 - val_accuracy: 0.9730 - val_loss: 0.0873\n",
      "Epoch 8/20\n",
      "\u001b[1m625/625\u001b[0m \u001b[32m━━━━━━━━━━━━━━━━━━━━\u001b[0m\u001b[37m\u001b[0m \u001b[1m163s\u001b[0m 261ms/step - accuracy: 0.9811 - loss: 0.0523 - val_accuracy: 0.9790 - val_loss: 0.0608\n",
      "Epoch 9/20\n",
      "\u001b[1m625/625\u001b[0m \u001b[32m━━━━━━━━━━━━━━━━━━━━\u001b[0m\u001b[37m\u001b[0m \u001b[1m200s\u001b[0m 258ms/step - accuracy: 0.9867 - loss: 0.0361 - val_accuracy: 0.9532 - val_loss: 0.1255\n",
      "Epoch 10/20\n",
      "\u001b[1m625/625\u001b[0m \u001b[32m━━━━━━━━━━━━━━━━━━━━\u001b[0m\u001b[37m\u001b[0m \u001b[1m202s\u001b[0m 259ms/step - accuracy: 0.9874 - loss: 0.0374 - val_accuracy: 0.9808 - val_loss: 0.0553\n",
      "Epoch 11/20\n",
      "\u001b[1m625/625\u001b[0m \u001b[32m━━━━━━━━━━━━━━━━━━━━\u001b[0m\u001b[37m\u001b[0m \u001b[1m163s\u001b[0m 261ms/step - accuracy: 0.9832 - loss: 0.0490 - val_accuracy: 0.9870 - val_loss: 0.0433\n",
      "Epoch 12/20\n",
      "\u001b[1m625/625\u001b[0m \u001b[32m━━━━━━━━━━━━━━━━━━━━\u001b[0m\u001b[37m\u001b[0m \u001b[1m201s\u001b[0m 259ms/step - accuracy: 0.9957 - loss: 0.0144 - val_accuracy: 0.9766 - val_loss: 0.0757\n",
      "Epoch 13/20\n",
      "\u001b[1m625/625\u001b[0m \u001b[32m━━━━━━━━━━━━━━━━━━━━\u001b[0m\u001b[37m\u001b[0m \u001b[1m162s\u001b[0m 260ms/step - accuracy: 0.9853 - loss: 0.0432 - val_accuracy: 0.9800 - val_loss: 0.0680\n",
      "Epoch 14/20\n",
      "\u001b[1m625/625\u001b[0m \u001b[32m━━━━━━━━━━━━━━━━━━━━\u001b[0m\u001b[37m\u001b[0m \u001b[1m164s\u001b[0m 262ms/step - accuracy: 0.9950 - loss: 0.0161 - val_accuracy: 0.9908 - val_loss: 0.0384\n",
      "Epoch 15/20\n",
      "\u001b[1m625/625\u001b[0m \u001b[32m━━━━━━━━━━━━━━━━━━━━\u001b[0m\u001b[37m\u001b[0m \u001b[1m164s\u001b[0m 262ms/step - accuracy: 0.9975 - loss: 0.0088 - val_accuracy: 0.9598 - val_loss: 0.1242\n",
      "Epoch 16/20\n",
      "\u001b[1m625/625\u001b[0m \u001b[32m━━━━━━━━━━━━━━━━━━━━\u001b[0m\u001b[37m\u001b[0m \u001b[1m163s\u001b[0m 261ms/step - accuracy: 0.9892 - loss: 0.0333 - val_accuracy: 0.9818 - val_loss: 0.0611\n",
      "Epoch 17/20\n",
      "\u001b[1m625/625\u001b[0m \u001b[32m━━━━━━━━━━━━━━━━━━━━\u001b[0m\u001b[37m\u001b[0m \u001b[1m162s\u001b[0m 259ms/step - accuracy: 0.9965 - loss: 0.0103 - val_accuracy: 0.9842 - val_loss: 0.0542\n",
      "Epoch 18/20\n",
      "\u001b[1m625/625\u001b[0m \u001b[32m━━━━━━━━━━━━━━━━━━━━\u001b[0m\u001b[37m\u001b[0m \u001b[1m203s\u001b[0m 261ms/step - accuracy: 0.9939 - loss: 0.0169 - val_accuracy: 0.9524 - val_loss: 0.2389\n",
      "Epoch 19/20\n",
      "\u001b[1m625/625\u001b[0m \u001b[32m━━━━━━━━━━━━━━━━━━━━\u001b[0m\u001b[37m\u001b[0m \u001b[1m202s\u001b[0m 262ms/step - accuracy: 0.9896 - loss: 0.0334 - val_accuracy: 0.9880 - val_loss: 0.0516\n",
      "Epoch 20/20\n",
      "\u001b[1m625/625\u001b[0m \u001b[32m━━━━━━━━━━━━━━━━━━━━\u001b[0m\u001b[37m\u001b[0m \u001b[1m173s\u001b[0m 277ms/step - accuracy: 0.9987 - loss: 0.0042 - val_accuracy: 0.9884 - val_loss: 0.0566\n"
     ]
    },
    {
     "data": {
      "text/plain": [
       "<keras.src.callbacks.history.History at 0x7a1725ce8100>"
      ]
     },
     "execution_count": 11,
     "metadata": {},
     "output_type": "execute_result"
    }
   ],
   "source": [
    "model.fit(xtrain,ytrain,\n",
    "          epochs=20,\n",
    "          validation_data=(xtest,ytest),shuffle=True)"
   ]
  },
  {
   "cell_type": "markdown",
   "id": "51b72ad6",
   "metadata": {
    "papermill": {
     "duration": 1.180521,
     "end_time": "2024-10-12T17:18:31.784974",
     "exception": false,
     "start_time": "2024-10-12T17:18:30.604453",
     "status": "completed"
    },
    "tags": []
   },
   "source": [
    "# **Model Evaluation** # "
   ]
  },
  {
   "cell_type": "code",
   "execution_count": 12,
   "id": "843c1ea4",
   "metadata": {
    "execution": {
     "iopub.execute_input": "2024-10-12T17:18:34.002182Z",
     "iopub.status.busy": "2024-10-12T17:18:34.001646Z",
     "iopub.status.idle": "2024-10-12T17:19:15.783309Z",
     "shell.execute_reply": "2024-10-12T17:19:15.781841Z"
    },
    "papermill": {
     "duration": 42.845085,
     "end_time": "2024-10-12T17:19:15.785908",
     "exception": false,
     "start_time": "2024-10-12T17:18:32.940823",
     "status": "completed"
    },
    "tags": []
   },
   "outputs": [
    {
     "name": "stdout",
     "output_type": "stream",
     "text": [
      "\u001b[1m625/625\u001b[0m \u001b[32m━━━━━━━━━━━━━━━━━━━━\u001b[0m\u001b[37m\u001b[0m \u001b[1m39s\u001b[0m 63ms/step - accuracy: 0.9997 - loss: 8.3662e-04\n"
     ]
    },
    {
     "data": {
      "text/plain": [
       "[0.0011112326756119728, 0.9996500015258789]"
      ]
     },
     "execution_count": 12,
     "metadata": {},
     "output_type": "execute_result"
    }
   ],
   "source": [
    "model.evaluate(xtrain,ytrain)"
   ]
  },
  {
   "cell_type": "code",
   "execution_count": 13,
   "id": "6455f87f",
   "metadata": {
    "execution": {
     "iopub.execute_input": "2024-10-12T17:19:18.116404Z",
     "iopub.status.busy": "2024-10-12T17:19:18.115257Z",
     "iopub.status.idle": "2024-10-12T17:19:28.152991Z",
     "shell.execute_reply": "2024-10-12T17:19:28.151790Z"
    },
    "papermill": {
     "duration": 11.178724,
     "end_time": "2024-10-12T17:19:28.155479",
     "exception": false,
     "start_time": "2024-10-12T17:19:16.976755",
     "status": "completed"
    },
    "tags": []
   },
   "outputs": [
    {
     "name": "stdout",
     "output_type": "stream",
     "text": [
      "\u001b[1m157/157\u001b[0m \u001b[32m━━━━━━━━━━━━━━━━━━━━\u001b[0m\u001b[37m\u001b[0m \u001b[1m10s\u001b[0m 61ms/step - accuracy: 0.9850 - loss: 0.0624\n"
     ]
    },
    {
     "data": {
      "text/plain": [
       "[0.056571148335933685, 0.9883999824523926]"
      ]
     },
     "execution_count": 13,
     "metadata": {},
     "output_type": "execute_result"
    }
   ],
   "source": [
    "model.evaluate(xtest,ytest)"
   ]
  },
  {
   "cell_type": "code",
   "execution_count": 14,
   "id": "c793fb3c",
   "metadata": {
    "execution": {
     "iopub.execute_input": "2024-10-12T17:19:30.554558Z",
     "iopub.status.busy": "2024-10-12T17:19:30.553855Z",
     "iopub.status.idle": "2024-10-12T17:19:30.690336Z",
     "shell.execute_reply": "2024-10-12T17:19:30.689255Z"
    },
    "papermill": {
     "duration": 1.337711,
     "end_time": "2024-10-12T17:19:30.692915",
     "exception": false,
     "start_time": "2024-10-12T17:19:29.355204",
     "status": "completed"
    },
    "tags": []
   },
   "outputs": [],
   "source": [
    "model.save('model.h5')"
   ]
  },
  {
   "cell_type": "code",
   "execution_count": null,
   "id": "71d3e812",
   "metadata": {
    "papermill": {
     "duration": 1.185881,
     "end_time": "2024-10-12T17:19:32.997898",
     "exception": false,
     "start_time": "2024-10-12T17:19:31.812017",
     "status": "completed"
    },
    "tags": []
   },
   "outputs": [],
   "source": []
  },
  {
   "cell_type": "code",
   "execution_count": null,
   "id": "a866bd7b",
   "metadata": {
    "papermill": {
     "duration": 1.135889,
     "end_time": "2024-10-12T17:19:35.320562",
     "exception": false,
     "start_time": "2024-10-12T17:19:34.184673",
     "status": "completed"
    },
    "tags": []
   },
   "outputs": [],
   "source": []
  },
  {
   "cell_type": "code",
   "execution_count": null,
   "id": "4b11972a",
   "metadata": {
    "papermill": {
     "duration": 1.210933,
     "end_time": "2024-10-12T17:19:37.712960",
     "exception": false,
     "start_time": "2024-10-12T17:19:36.502027",
     "status": "completed"
    },
    "tags": []
   },
   "outputs": [],
   "source": []
  },
  {
   "cell_type": "code",
   "execution_count": null,
   "id": "31afdfd9",
   "metadata": {
    "papermill": {
     "duration": 1.126102,
     "end_time": "2024-10-12T17:19:40.031940",
     "exception": false,
     "start_time": "2024-10-12T17:19:38.905838",
     "status": "completed"
    },
    "tags": []
   },
   "outputs": [],
   "source": []
  },
  {
   "cell_type": "code",
   "execution_count": null,
   "id": "11b76c32",
   "metadata": {
    "papermill": {
     "duration": 1.187969,
     "end_time": "2024-10-12T17:19:42.448159",
     "exception": false,
     "start_time": "2024-10-12T17:19:41.260190",
     "status": "completed"
    },
    "tags": []
   },
   "outputs": [],
   "source": []
  }
 ],
 "metadata": {
  "kaggle": {
   "accelerator": "none",
   "dataSources": [
    {
     "datasetId": 601280,
     "sourceId": 1079953,
     "sourceType": "datasetVersion"
    }
   ],
   "dockerImageVersionId": 30786,
   "isGpuEnabled": false,
   "isInternetEnabled": true,
   "language": "python",
   "sourceType": "notebook"
  },
  "kernelspec": {
   "display_name": "Python 3",
   "language": "python",
   "name": "python3"
  },
  "language_info": {
   "codemirror_mode": {
    "name": "ipython",
    "version": 3
   },
   "file_extension": ".py",
   "mimetype": "text/x-python",
   "name": "python",
   "nbconvert_exporter": "python",
   "pygments_lexer": "ipython3",
   "version": "3.10.14"
  },
  "papermill": {
   "default_parameters": {},
   "duration": 4017.910607,
   "end_time": "2024-10-12T17:19:46.657990",
   "environment_variables": {},
   "exception": null,
   "input_path": "__notebook__.ipynb",
   "output_path": "__notebook__.ipynb",
   "parameters": {},
   "start_time": "2024-10-12T16:12:48.747383",
   "version": "2.6.0"
  }
 },
 "nbformat": 4,
 "nbformat_minor": 5
}
